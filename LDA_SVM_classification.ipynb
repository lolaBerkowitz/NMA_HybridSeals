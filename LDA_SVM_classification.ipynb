{
  "nbformat": 4,
  "nbformat_minor": 0,
  "metadata": {
    "colab": {
      "name": "LDA_SVM_classification.ipynb",
      "provenance": [],
      "collapsed_sections": [],
      "toc_visible": true,
      "authorship_tag": "ABX9TyNybrBDfwoJev7pKc5ZoCwq",
      "include_colab_link": true
    },
    "kernelspec": {
      "name": "python3",
      "display_name": "Python 3"
    }
  },
  "cells": [
    {
      "cell_type": "markdown",
      "metadata": {
        "id": "view-in-github",
        "colab_type": "text"
      },
      "source": [
        "<a href=\"https://colab.research.google.com/github/lolaBerkowitz/NMA_HybridSeals/blob/master/LDA_SVM_classification.ipynb\" target=\"_parent\"><img src=\"https://colab.research.google.com/assets/colab-badge.svg\" alt=\"Open In Colab\"/></a>"
      ]
    },
    {
      "cell_type": "markdown",
      "metadata": {
        "id": "zCZ34kYdhPFV",
        "colab_type": "text"
      },
      "source": [
        "#Classification of miss/incorrect and correct trials using dimensionality reduction and SVM classification. \n",
        "\n",
        "* dataset: Steinmetz 2019 for NMA (39 sessions)\n"
      ]
    },
    {
      "cell_type": "code",
      "metadata": {
        "id": "HqGP-NydhNro",
        "colab_type": "code",
        "colab": {}
      },
      "source": [
        "#import packages\n",
        "import numpy as np\n",
        "import matplotlib.pyplot as plt\n",
        "!pip install sklearn-evaluation\n",
        "\n"
      ],
      "execution_count": null,
      "outputs": []
    },
    {
      "cell_type": "code",
      "metadata": {
        "id": "4hwF1RxIplqN",
        "colab_type": "code",
        "cellView": "form",
        "colab": {}
      },
      "source": [
        "#@title Data retrieval\n",
        "import os, requests\n",
        "\n",
        "fname = []\n",
        "for j in range(3):\n",
        "  fname.append('steinmetz_part%d.npz'%j)\n",
        "url = [\"https://osf.io/agvxh/download\"]\n",
        "url.append(\"https://osf.io/uv3mw/download\")\n",
        "url.append(\"https://osf.io/ehmw2/download\")\n",
        "\n",
        "for j in range(len(url)):\n",
        "  if not os.path.isfile(fname[j]):\n",
        "    try:\n",
        "      r = requests.get(url[j])\n",
        "    except requests.ConnectionError:\n",
        "      print(\"!!! Failed to download data !!!\")\n",
        "    else:\n",
        "      if r.status_code != requests.codes.ok:\n",
        "        print(\"!!! Failed to download data !!!\")\n",
        "      else:\n",
        "        with open(fname[j], \"wb\") as fid:\n",
        "          fid.write(r.content)"
      ],
      "execution_count": null,
      "outputs": []
    },
    {
      "cell_type": "code",
      "metadata": {
        "id": "IIwPlhUohxq1",
        "colab_type": "code",
        "cellView": "form",
        "colab": {}
      },
      "source": [
        "#@title Data loading\n",
        "import numpy as np\n",
        "import numpy.matlib as npm\n",
        "\n",
        "alldat = np.array([])\n",
        "for j in range(len(fname)):\n",
        "  alldat = np.hstack((alldat, np.load('steinmetz_part%d.npz'%j, allow_pickle=True)['dat']))\n"
      ],
      "execution_count": null,
      "outputs": []
    },
    {
      "cell_type": "code",
      "metadata": {
        "id": "8gaoUPQ_y6A0",
        "colab_type": "code",
        "cellView": "form",
        "colab": {}
      },
      "source": [
        "#@title Helper Functions\n",
        "\n",
        "# Brain regions concatenated by functional area \n",
        "brain_groups = [[\"VISa\", \"VISam\", \"VISl\", \"VISp\", \"VISpm\", \"VISrl\"], # visual cortex\n",
        "                [\"CL\", \"LD\", \"LGd\", \"LH\", \"LP\", \"MD\", \"MG\", \"PO\", \"POL\", \"PT\", \"RT\", \"SPF\", \"TH\", \"VAL\", \"VPL\", \"VPM\"], # thalamus\n",
        "                [\"CA\", \"CA1\", \"CA2\", \"CA3\", \"DG\", \"SUB\", \"POST\"], # hippocampal\n",
        "                [\"ACA\", \"AUD\", \"COA\", \"DP\", \"ILA\", \"MOp\", \"MOs\", \"OLF\", \"ORB\", \"ORBm\", \"PIR\", \"PL\", \"SSp\", \"SSs\", \"RSP\",\" TT\"], # non-visual cortex\n",
        "               ]\n",
        "\n",
        "\n",
        "def find_cells(df,session,region,exlude_region = False):\n",
        "  if exlude_region:\n",
        "    cell_idx = (np.isin(df.session,session_list[0]) & np.isin(df.broad_region,region,invert = True))\n",
        "    return df.cell[cell_idx]\n",
        "  else:\n",
        "    cell_idx = (np.isin(df.session,session_list[0]) & np.isin(df.broad_region,region))\n",
        "    return df.cell[cell_idx]\n",
        "\n",
        "def group_region(subregion,brain_groups):\n",
        "  # subregion: list of regions\n",
        "  # brain_groups: nested list of brain regions within broad area \n",
        "  #              (visual cortex, thalamus, hippocampus, other cortex)\n",
        "  broad_region = [] # initalize list \n",
        "  for i in subregion:\n",
        "      if np.isin(i,brain_groups[0]):\n",
        "        broad_region.append('vis_ctx')\n",
        "      elif np.isin(i,brain_groups[1]):\n",
        "        broad_region.append('thal')\n",
        "      elif np.isin(i,brain_groups[2]):\n",
        "        broad_region.append('hipp')\n",
        "      elif np.isin(i,brain_groups[3]):\n",
        "        broad_region.append('other_ctx')\n",
        "      else:\n",
        "        broad_region.append('other')\n",
        "  return broad_region\n",
        "\n",
        "def get_session_list(dataframe,region):\n",
        "  # lets get a list of sessions that we know contain the \n",
        "  #   brain region of interest.\n",
        "  # input: \n",
        "  #   dataframe: dataframe with variables \"session\",\"mouse\",\n",
        "  #       \"cell\",\"broad_region\",\"subregion\" \n",
        "  #   region: string variable specifying broad region or \n",
        "  #       subregion of interest\n",
        "  # output: \n",
        "  #   session_list: list of sessions that contain recordings \n",
        "  #       from area of interest.\n",
        "  col = dataframe.columns[(dataframe.values==region).any(0)].tolist() #column name list\n",
        "  if not col:\n",
        "    raise Warning(\"Region not in dataset. Check spelling or try another name\")\n",
        "    return\n",
        "  check = dataframe[col]\n",
        "  idx = (check.values==region).any(1)\n",
        "  subset_df = dataframe.loc[idx]\n",
        "  subset_df = subset_df[['session','mouse']].drop_duplicates()\n",
        "  session_list = subset_df\n",
        "\n",
        "  return session_list\n",
        "\n",
        "def get_even_samples(labels): # only deals with binary labels\n",
        "  label1_num, label2_num = list(labels).count(0), list(labels).count(1)\n",
        "  idx = np.linspace(0,len(labels)-1,num=len(labels))\n",
        "  label1_idx = idx[labels==0]\n",
        "  label2_idx = idx[labels==1]\n",
        "  if label2_num > label1_num: # if 0 labels is greater than 1 label in number\n",
        "    label2_idx_downsampl = np.random.choice(label2_idx,size=label1_num)\n",
        "    label1_idx_downsampl = label1_idx\n",
        "  elif label1_num > label2_num:\n",
        "    label1_idx_downsampl = np.random.choice(label1_idx,size=label2_num)\n",
        "    label2_idx_downsampl = label2_idx\n",
        "\n",
        "  return  np.sort(label2_idx_downsampl).astype(int),label1_idx_downsampl.astype(int) # if labels has miss=0 and hits = 1, returns (hit_idx, miss_idx)\n",
        "\n",
        "def get_labels_LDA(dat):\n",
        "\n",
        "  difficulty= np.abs(dat['contrast_right'] - dat['contrast_left'])\n",
        "  side = ((dat['contrast_right'] - dat['contrast_left']))\n",
        "  choice = side < 0. # 1 = move right, 0 = move left\n",
        "\n",
        "  # Create labels for hit/miss/correct\n",
        "  hit_miss_incorrect = []\n",
        "  for trial in range(len(dat['response'])):\n",
        "    if np.logical_or(np.logical_and(dat['response'][trial]==0,dat['contrast_left'][trial]>0),np.logical_and(dat['response'][trial]==0,dat['contrast_right'][trial]>0)):\n",
        "      hit_miss_incorrect.append(0) # add miss as '0' same as incorrect\n",
        "    elif np.logical_or(np.logical_and(dat['response'][trial]>0,(dat['contrast_right'][trial] - dat['contrast_left'][trial])<0),np.logical_and(dat['response'][trial]<0,(dat['contrast_right'][trial] - dat['contrast_left'][trial])>0)):\n",
        "      hit_miss_incorrect.append(1) # add hit as '1'\n",
        "    elif np.logical_or(np.logical_and(dat['response'][trial]<0,(dat['contrast_right'][trial] - dat['contrast_left'][trial])<0),np.logical_and(dat['response'][trial]>0,(dat['contrast_right'][trial] - dat['contrast_left'][trial])>0)):\n",
        "      hit_miss_incorrect.append(0) # add incorrect as '0' same as miss\n",
        "    else:\n",
        "      hit_miss_incorrect.append(3) # add random choice as '3'\n",
        "\n",
        "  difficulty = np.hstack(difficulty)\n",
        "  side = np.hstack(side)\n",
        "  hit_miss_incorrect = np.hstack(hit_miss_incorrect)\n",
        "  choice = np.hstack(choice)\n",
        "  labels = np.array([hit_miss_incorrect,side,difficulty,choice]).T\n",
        "\n",
        "  return labels\n",
        "\n",
        "  \n",
        "def get_binned_spikes(spikes,bin_down):\n",
        "  binned_data_neurons = np.zeros([len(spikes[:,0])//bin_down,len(spikes[0,:])])\n",
        "  print(np.shape(binned_data_neurons))   \n",
        "  for neuron in range(0,len(spikes[0,:])):\n",
        "    spike_train_to_bin = spikes[:,neuron]\n",
        "    binned_spike_train = np.zeros(int(len(spike_train_to_bin)/bin_down))\n",
        "    for bin_start in range (0,(len(spike_train_to_bin)-bin_down),bin_down):\n",
        "      bin_num = int(bin_start/bin_down)\n",
        "      bin_values_neurons = spike_train_to_bin[bin_start:(bin_start+bin_down)]\n",
        "      binned_spike_train[bin_num] = np.sum(bin_values_neurons)\n",
        "      binned_data_neurons[:,neuron] = binned_spike_train\n",
        "  return binned_data_neurons, (binned_data_neurons>0).astype(int)\n",
        "\n",
        "def get_binned_labels(data,bin_down):\n",
        "  binned_data_columns = np.zeros([len(data[:,0])//bin_down,len(data[0,:])])\n",
        "  print(np.shape(binned_data_columns))   \n",
        "  for column in range(0,len(data[0,:])):\n",
        "    time_series_to_bin = data[:,column]\n",
        "    binned_series = np.zeros(int(len(time_series_to_bin)/bin_down))\n",
        "    for bin_start in range (0,(len(time_series_to_bin)-bin_down+1),bin_down):\n",
        "      bin_num = int(bin_start/bin_down)\n",
        "      bin_values_series = time_series_to_bin[bin_start:(bin_start+bin_down)]\n",
        "      binned_series[bin_num] = np.mean(bin_values_series)\n",
        "      binned_data_columns[:,column] = binned_series\n",
        "  return binned_data_columns\n"
      ],
      "execution_count": null,
      "outputs": []
    },
    {
      "cell_type": "markdown",
      "metadata": {
        "id": "pgwSGPVOVvJn",
        "colab_type": "text"
      },
      "source": [
        "##Set up data frame"
      ]
    },
    {
      "cell_type": "code",
      "metadata": {
        "id": "pFccSBLSVt9Y",
        "colab_type": "code",
        "cellView": "both",
        "colab": {}
      },
      "source": [
        "# Set up data frame\n",
        "# Build matrix of animals x Brain region (39 x nRegion Matrix)\n",
        "import pandas as pd\n",
        "\n",
        "# Initiate variables\n",
        "cell_count = []\n",
        "region_id = []\n",
        "mouse_id = []\n",
        "cell_id = []\n",
        "session_id = []\n",
        "num_spks = []\n",
        "# Loop through sructure and get data\n",
        "for i in range(alldat.shape[0]): #session\n",
        "  sess = alldat[i]\n",
        "  for ii in range(len(sess['spks'])):     # cell\n",
        "    region_id.append(sess['brain_area'][ii])\n",
        "    cell_id.append((ii))\n",
        "    mouse_id.append(sess['mouse_name'])\n",
        "    session_id.append(sess['date_exp'])\n",
        "    num_spks.append(len(sess['spks'][ii]))\n",
        "\n",
        "broad_region = group_region(region_id,brain_groups) # groups subregion into broad region (vis_ctx,thal,hipp,other_ctx)\n",
        "\n",
        "# Create Pandas DF for ease of exploring\n",
        "data = list(zip(session_id,mouse_id,cell_id,num_spks,broad_region,region_id))\n",
        "df = pd.DataFrame(data,columns=['session','mouse','cell','num_spks','broad_region','subregion'])\n",
        "\n",
        "# # Get list of sessions contain recordings of roi (can use broad_region or subregion ID)\n",
        "vis = get_session_list(df,\"vis_ctx\") #for all hippocampal regions\n",
        "thal = get_session_list(df,\"thal\") #for all hippocampal regions\n",
        "hipp = get_session_list(df,\"hipp\") #for all hippocampal regions\n",
        "\n",
        "s1 = pd.merge(vis, thal, how='inner', on=['session', 'mouse'])\n",
        "s2 = pd.merge(s1, hipp, how='inner', on=['session', 'mouse'])\n",
        "\n",
        "print(s2)\n",
        "\n",
        "# # # find similarity between regions\n",
        "# vis_thal, _, _ = np.intersect1d(vis, thal, return_indices=True)\n",
        "# session_list, _, _ = np.intersect1d(vis_thal, hipp, return_indices=True)\n",
        "\n",
        "# print('sessions to run: ' + str(len(session_list)))\n",
        "\n",
        "# print(vis)"
      ],
      "execution_count": null,
      "outputs": []
    },
    {
      "cell_type": "markdown",
      "metadata": {
        "id": "0xNY52hunIce",
        "colab_type": "text"
      },
      "source": [
        "#Lets start by adding the tools we'll need for: \n",
        "* Creating Test, Train, and Validation sets from data (train_test_split)\n",
        "* Organizing analysis pipeline to streamline process (Pipeline)\n",
        "* Run hyperparameter optimazation (GridSearchCV)\n",
        "* Fit model and run cross-validation on training data (KFold,cross_val_score)\n"
      ]
    },
    {
      "cell_type": "code",
      "metadata": {
        "id": "jxEddx5pzeCZ",
        "colab_type": "code",
        "colab": {}
      },
      "source": [
        "import numpy as np\n",
        "from sklearn.pipeline import Pipeline\n",
        "from sklearn.model_selection import cross_val_score\n",
        "from sklearn.model_selection import RepeatedKFold\n",
        "from sklearn.model_selection import train_test_split\n",
        "from sklearn.preprocessing import StandardScaler\n",
        "from sklearn import svm\n",
        "from sklearn.discriminant_analysis import LinearDiscriminantAnalysis\n",
        "import random\n",
        "from sklearn import metrics\n",
        "from sklearn.model_selection import GridSearchCV\n"
      ],
      "execution_count": null,
      "outputs": []
    },
    {
      "cell_type": "markdown",
      "metadata": {
        "id": "2QQJIuC6pnIM",
        "colab_type": "text"
      },
      "source": [
        "###This function will grab the cell indicies for the brain area you're interested in given a brain region\n",
        "\n"
      ]
    },
    {
      "cell_type": "code",
      "metadata": {
        "id": "Zsxn1JQZj8i4",
        "colab_type": "code",
        "colab": {}
      },
      "source": [
        "# Grabs the cell index for a given session by region \n",
        "def get_session_cell_list(df,session_list,sess_it):\n",
        "\n",
        "# # grab cells of interest Roi from session\n",
        "  vis = []\n",
        "  thal = []\n",
        "  hipp = []\n",
        "  idx_all = []\n",
        "  vis = find_cells(df,session_list[sess_it],'vis_ctx')\n",
        "  thal = find_cells(df,session_list[sess_it],'thal')\n",
        "  hipp = find_cells(df,session_list[sess_it],'hipp')\n",
        "  idx_all.append(np.hstack((vis.copy(),thal.copy(),hipp.copy())))\n",
        "  idx_all = idx_all[0]\n",
        "  return vis, thal, hipp, idx_all\n",
        "\n",
        "#test\n",
        "# vis,thal,hipp,idx_all = get_session_cell_list(df,session_list,0)\n",
        "# print(vis.shape)\n",
        "# print(hipp.shape)\n",
        "# print(len(idx_all))\n",
        "# print(thal.shape)"
      ],
      "execution_count": null,
      "outputs": []
    },
    {
      "cell_type": "markdown",
      "metadata": {
        "id": "DiNEeexZWCPY",
        "colab_type": "text"
      },
      "source": [
        "### This function will grab the categorical data for a given session"
      ]
    },
    {
      "cell_type": "code",
      "metadata": {
        "id": "Hy8-CNk3uWoK",
        "colab_type": "code",
        "colab": {}
      },
      "source": [
        "# Grab the spike data for a given region (cell_list) in a given session (sess_num) from all the data (alldat)\n",
        "def get_session_data_labels(alldat,cell_list,sess_num):\n",
        "  # Grab session data\n",
        "  dat = alldat[sess_num]\n",
        "  cells = dat['spks'][cell_list]\n",
        "\n",
        "  # n_trials x context \n",
        "  labels = get_labels_LDA(dat) \n",
        "  return cells, labels\n",
        "\n",
        "#test \n",
        "# cells, labels = get_session_data_labels(alldat,thal,9)\n"
      ],
      "execution_count": null,
      "outputs": []
    },
    {
      "cell_type": "markdown",
      "metadata": {
        "id": "TwIzgNTaqX4t",
        "colab_type": "text"
      },
      "source": [
        "##Organize the data into proper format for LDA \n",
        "* Xt = matrix of number of trials (rows) by neurons (columns). \n",
        "* Trial data consists of binned spikes across entired 2500ms trial duration.\n",
        "* labels for lda, first column corresponds to incorrect/miss = 0, hit = 1, random = 2. "
      ]
    },
    {
      "cell_type": "code",
      "metadata": {
        "id": "ZcdlYf_EkP7Y",
        "colab_type": "code",
        "colab": {}
      },
      "source": [
        "# Get data into trials x n cells x time (250 bins)\n",
        "\n",
        "def get_matrices(cells,labels,measure): \n",
        "  X = cells.T.transpose(1,2,0) # transpose allows for the trials to be 0th dim\n",
        "  Xt = X.sum(axis=2)\n",
        "  y = labels[:,measure] \n",
        "\n",
        "  return Xt,y\n",
        "\n",
        "#test\n",
        "# X,y = get_matrices(cells,labels,0)\n",
        "# print(X.shape)\n",
        "# print(y.shape)"
      ],
      "execution_count": null,
      "outputs": []
    },
    {
      "cell_type": "markdown",
      "metadata": {
        "id": "HT0jo0Cvr_00",
        "colab_type": "text"
      },
      "source": [
        "###This function identifies and saves best model determined by GridSearchCV using RepeatedKfold crossvaliation. Model performance is plotted\n",
        "\n",
        "\n",
        "Use Pipeline function to orgnaize process:\n",
        "1. Scale data \n",
        "2. Perform LDA specifiying 2 components OR use linear support vector machine for classification \n",
        "4. Set parameters to optimize solver/shrinkage (LDA) or Regularization (SVC) (e.g. L1 or L2)\n",
        "\n",
        "\n"
      ]
    },
    {
      "cell_type": "code",
      "metadata": {
        "id": "ZQ6p0CTokiK-",
        "colab_type": "code",
        "colab": {}
      },
      "source": [
        "### Set Testing Parameters\n",
        "# Create pipeline\n",
        "pipe_clf = Pipeline([\n",
        "      ('scaler', StandardScaler()),\n",
        "      ('clf', svm.LinearSVC(max_iter=10000))])\n",
        "\n",
        "# Set parameters to test during optimization\n",
        "param_grid_clf = [\n",
        "   { \n",
        "        \"clf__penalty\": [\"l2\"],\n",
        "        \"clf__dual\":[False,True]\n",
        "   },\n",
        "   { \n",
        "        \"clf__penalty\": [\"l1\"],\n",
        "        \"clf__dual\":[False]\n",
        "   }    \n",
        "]\n",
        "\n",
        "# Create pipeline\n",
        "pipe_lda = Pipeline([\n",
        "      ('scaler', StandardScaler()),\n",
        "      ('lda', LinearDiscriminantAnalysis(n_components=2))])\n",
        "\n",
        "# Set parameters to test during optimization\n",
        "param_grid_lda = [\n",
        "   { \n",
        "        \"lda__solver\": [\"eigen\"],\n",
        "        \"lda__shrinkage\":[\"auto\"]\n",
        "   },\n",
        "   { \n",
        "        \"lda__solver\": [\"lsqr\"],\n",
        "        \"lda__shrinkage\":[\"auto\"]\n",
        "   }    \n",
        "]\n",
        "\n",
        "# Define function\n",
        "def model_selection(X,y,pipe,param_grid):\n",
        "  # See if L1 or L2 regularization leads to better classification accuracy with 5 fold cross validation\n",
        "  cv = RepeatedKFold(n_splits=5, n_repeats=10, random_state=1)\n",
        "  grid = GridSearchCV(pipe, cv=cv, param_grid=param_grid)\n",
        "  grid.fit(X,y)\n",
        "\n",
        "  # Print Summary of the results\n",
        "  print(\"Best: %f using %s\" % (grid.best_score_, grid.best_params_))\n",
        "  means = grid.cv_results_['mean_test_score']\n",
        "  stds = grid.cv_results_['std_test_score']\n",
        "  params = grid.cv_results_['params']\n",
        "  for mean, stdev, param in zip(means, stds, params):\n",
        "    print(\"%f (%f) with: %r\" % (mean, stdev, param))\n",
        "\n",
        "  # save the best model\n",
        "  model = grid.best_estimator_\n",
        "\n",
        "  return model\n",
        "\n",
        "#test \n",
        "# lda_best = model_selection(X,y,pipe_lda,param_grid_lda)\n",
        "# clf_best = model_selection(X,y,pipe_clf,param_grid_clf)"
      ],
      "execution_count": null,
      "outputs": []
    },
    {
      "cell_type": "markdown",
      "metadata": {
        "id": "FP0h0QCWcQiu",
        "colab_type": "text"
      },
      "source": [
        "###This function will run RepeatedKfold cross validation on a given model. Output's performance metrics. \n",
        "\n",
        "\n"
      ]
    },
    {
      "cell_type": "code",
      "metadata": {
        "id": "ZEwYoayXsnhU",
        "colab_type": "code",
        "colab": {}
      },
      "source": [
        "def run_model_cv(model,X_train,y_train,X_test,y_test):\n",
        "  cv = RepeatedKFold(n_splits = 5, n_repeats = 10, random_state = 2020)\n",
        "  scores = cross_val_score(model, X_train, y_train, cv = cv) # 5-fold repeated cross validation\n",
        "  print('Mean Accuracy: ',scores.mean())\n",
        "\n",
        "  # Plot summary of accuracy results (ala of Di from knowing grebes' github)\n",
        "  f, ax = plt.subplots(figsize=(8, 3))\n",
        "  ax.boxplot(scores, vert=False, widths=.7)\n",
        "  ax.scatter(scores, np.ones(50))\n",
        "  ax.set(\n",
        "    xlabel=\"Accuracy\",\n",
        "    yticks=[],\n",
        "    title=f\"Average test accuracy: {scores.mean():.2%}\"\n",
        "  )\n",
        "  ax.spines[\"left\"].set_visible(False)\n",
        "\n",
        "  predicted = model.predict(X_test)\n",
        "  # Get metrics for model\n",
        "  mets = metrics.classification_report(y_test,predicted)\n",
        "  return mets, predicted, scores"
      ],
      "execution_count": null,
      "outputs": []
    },
    {
      "cell_type": "markdown",
      "metadata": {
        "id": "owShomjbuC9B",
        "colab_type": "text"
      },
      "source": [
        "##Okay, lets reduce some dimensions using LDA and compare accuracy"
      ]
    },
    {
      "cell_type": "code",
      "metadata": {
        "id": "zEkOv5lpCyJh",
        "colab_type": "code",
        "colab": {}
      },
      "source": [
        "# And now make some pretty plots \n",
        "cv = RepeatedKFold(n_splits = 5, n_repeats = 10, random_state = 2021)\n",
        "lda = LinearDiscriminantAnalysis(n_components=2, priors=None,shrinkage='auto', solver='eigen',store_covariance=False,tol=0.0001)\n",
        "scores = cross_val_score(lda, X_train, y_train, cv = cv) # 5-fold repeated cross validation\n",
        "print('Mean Accuracy: ',scores.mean())\n",
        "\n",
        "# Plot summary of accuracy results (ala of Di from knowing grebes' github)\n",
        "f, ax = plt.subplots(figsize=(8, 3))\n",
        "ax.boxplot(scores, vert=False, widths=.7)\n",
        "ax.scatter(scores, np.ones(50))\n",
        "ax.set(\n",
        "  xlabel=\"Accuracy\",\n",
        "  yticks=[],\n",
        "  title=f\"Average test accuracy: {scores.mean():.2%}\"\n",
        ")\n",
        "ax.spines[\"left\"].set_visible(False)\n",
        "fig.savefit()\n",
        "x = lda.fit_transform(X_train,y_train)\n",
        "x_test = lda.fit_transform(X_test,y_test)\n",
        "\n",
        "plt.figure()\n",
        "plt.scatter(x[:,0],x[:,1],c = y_train.astype(int),cmap = 'jet')\n",
        "plt.title('Training Set')\n",
        "fig.savefig('training.pdf')\n",
        "plt.show()\n",
        "\n",
        "plt.figure()\n",
        "plt.scatter(x_test[:,0],x_test[:,1],c = y_test.astype(int),cmap = 'jet')\n",
        "plt.title('Test Set')\n",
        "fig.savefig('test.pdf')\n",
        "plt.show()  \n"
      ],
      "execution_count": null,
      "outputs": []
    },
    {
      "cell_type": "code",
      "metadata": {
        "id": "psd_uGc8XwIs",
        "colab_type": "code",
        "colab": {
          "base_uri": "https://localhost:8080/",
          "height": 34
        },
        "outputId": "c6a277ea-255d-4064-9812-e00239789a43"
      },
      "source": [
        "print(session_list)"
      ],
      "execution_count": null,
      "outputs": [
        {
          "output_type": "stream",
          "text": [
            "[]\n"
          ],
          "name": "stdout"
        }
      ]
    },
    {
      "cell_type": "code",
      "metadata": {
        "id": "IhMSiZcmwX1u",
        "colab_type": "code",
        "colab": {}
      },
      "source": [
        "# Loop through example session\n",
        "\n",
        "sess_num = to_run[s]\n",
        "\n",
        "vis,thal,hipp,idx_all = get_session_cell_list(df,session_list,s)\n",
        "area_list = [vis,thal,hipp,idx_all]\n",
        "\n",
        "for c in range(4): #loop through cells\n",
        "\n",
        "  print(len(area_list[c]))\n",
        "  print('region:', c)\n",
        "  cells =[]\n",
        "  labels = []\n",
        "  # get session data\n",
        "  cells, labels = get_session_data_labels(alldat,area_list[c],sess_num)\n",
        "\n",
        "  # get predictor matrices \n",
        "  X,y = get_matrices(cells,labels,0)\n",
        "\n",
        "  # Split the data into test(60%), train(20%), and validation(20%) sets\n",
        "  # Split the data into Training and Test Set\n",
        "  X_train, X_test, y_train, y_test = train_test_split(X, y, test_size=0.2, random_state=1)\n",
        "\n",
        "  # Further split training set (.80) into validation set (.20) to get new training set (.60)\n",
        "  X_train, X_val, y_train, y_val = train_test_split(X_train, y_train, test_size=0.25, random_state=1) # 0.25 x 0.8 = 0.2\n",
        "\n",
        "  # Set parameters to test during optimization for linearSVC\n",
        "  param_grid_clf = [\n",
        "    { \n",
        "        \"clf__penalty\": [\"l2\"],\n",
        "        \"clf__dual\":[False,True]\n",
        "    },\n",
        "    { \n",
        "        \"clf__penalty\": [\"l1\"],\n",
        "        \"clf__dual\":[False]\n",
        "    }    \n",
        "  ]\n",
        "\n",
        "  # Create pipeline\n",
        "  pipe_lda = Pipeline([\n",
        "          ('scaler', StandardScaler()),\n",
        "        ('lda', LinearDiscriminantAnalysis(n_components=2))])\n",
        "\n",
        "  # Set parameters to test during optimization for LDA\n",
        "  param_grid_lda = [\n",
        "    { \n",
        "          \"lda__solver\": [\"eigen\"],\n",
        "          \"lda__shrinkage\":[\"auto\"]\n",
        "    },\n",
        "    { \n",
        "          \"lda__solver\": [\"lsqr\"],\n",
        "          \"lda__shrinkage\":[\"auto\"]\n",
        "    }    \n",
        "  ]\n",
        "\n",
        "  # Find Best model\n",
        "  lda_best = model_selection(X_train,y_train,pipe_lda,param_grid_lda)\n",
        "  clf_best = model_selection(X_train,y_train,pipe_clf,param_grid_clf)\n",
        "\n",
        "  # Split the data into Training and Test Set\n",
        "  X_train, X_test, y_train, y_test = train_test_split(X, y, test_size=0.25, random_state=2)\n",
        "\n",
        "  # Run the lda model\n",
        "  cv = RepeatedKFold(n_splits = 5, n_repeats = 10, random_state = 2021)\n",
        "  lda = LinearDiscriminantAnalysis(n_components=2, priors=None,shrinkage='auto', solver='eigen',store_covariance=False,tol=0.0001)\n",
        "  scores = cross_val_score(lda, X_train, y_train, cv = cv) # 5-fold repeated cross validation\n",
        "  print('Mean Accuracy: ',scores.mean())\n",
        "\n",
        "  # Plot summary of accuracy results (ala of Di from knowing grebes' github)\n",
        "  f, ax = plt.subplots(figsize=(8, 3))\n",
        "  ax.boxplot(scores, vert=False, widths=.7)\n",
        "  ax.scatter(scores, np.ones(50))\n",
        "  ax.set(\n",
        "    xlabel=\"Accuracy\",\n",
        "    yticks=[],\n",
        "    title=f\"Average test accuracy: {scores.mean():.2%}\"\n",
        "  )\n",
        "  ax.spines[\"left\"].set_visible(False)\n",
        "\n",
        "  x = lda.fit_transform(X_train,y_train)\n",
        "  x_test = lda.fit_transform(X_test,y_test)\n",
        "\n",
        "  plt.figure()\n",
        "  plt.scatter(x[:,0],x[:,1],c = y_train.astype(int),cmap = 'jet')\n",
        "  plt.title('Training Set')\n",
        "  plt.show()\n",
        "\n",
        "  plt.figure()\n",
        "  plt.scatter(x_test[:,0],x_test[:,1],c = y_test.astype(int),cmap = 'jet')\n",
        "  plt.title('Test Set')\n",
        "  plt.show()  \n",
        "\n",
        "# Run SCV on LDA embeddings\n",
        "  clf = svm.LinearSVC(C=1.0, class_weight=None, dual=False,\n",
        "                          fit_intercept=True, intercept_scaling=1,\n",
        "                          loss='squared_hinge', max_iter=10000,\n",
        "                          multi_class='ovr', penalty='l1', random_state=None,\n",
        "                          tol=0.0001, verbose=0)\n",
        "\n",
        "  cv = RepeatedKFold(n_splits = 5, n_repeats = 10, random_state = 2032)\n",
        "  scores = cross_val_score(clf, x, y_train, cv = cv) # 5-fold repeated cross validation\n",
        "  print('Mean Accuracy: ',scores)\n",
        "\n",
        "  # Plot summary of accuracy results (ala of Di from knowing grebes' github)\n",
        "  f, ax = plt.subplots(figsize=(8, 3))\n",
        "  ax.boxplot(scores, vert=False, widths=.7)\n",
        "  ax.scatter(scores, np.ones(50))\n",
        "  ax.set(\n",
        "    xlabel=\"Accuracy\",\n",
        "    yticks=[],\n",
        "    title=f\"Average test accuracy: {scores.mean():.2%}\"\n",
        "  )\n",
        "  ax.spines[\"left\"].set_visible(False)\n",
        "\n",
        "  linear_svm = clf.fit(x,y_train)\n",
        "  line = np.linspace(-15, 15)  \n",
        "  for coef, intercept in zip(linear_svm.coef_, linear_svm.intercept_):  \n",
        "      plt.plot(line, -(line * coef[0] + intercept) / coef[1])  #HOW DO WE KNOW\n",
        "  plt.ylim(-10, 15)  \n",
        "  plt.xlim(-10, 8) \n",
        "  plt.scatter(x[:,0],x[:,1]) \n",
        "  plt.show() \n"
      ],
      "execution_count": null,
      "outputs": []
    },
    {
      "cell_type": "code",
      "metadata": {
        "id": "vjyxJpHRVM2n",
        "colab_type": "code",
        "colab": {
          "base_uri": "https://localhost:8080/",
          "height": 611
        },
        "outputId": "0fbc88c7-91af-43ac-8a82-6f5d73cf1265"
      },
      "source": [
        "c = ['#581845','#FF5733','#FFC300']\n",
        "\n",
        "font = {'family' : 'normal',\n",
        "        'weight' : 'bold',\n",
        "        'size'   : 22}\n",
        "\n",
        "plt.rc('font', **font)\n",
        "plt.rcParams['image.cmap'] = \"twilight\"\n",
        "  \n",
        "linear_svm = clf.fit(x,y_train)\n",
        "plt.figure(figsize=(10,10))\n",
        "line = np.linspace(-15, 15)  \n",
        "for coef, intercept in zip(linear_svm.coef_, linear_svm.intercept_):  \n",
        "      plt.plot(line, -(line * coef[0] + intercept) / coef[1])  #HOW DO WE KNOW\n",
        "plt.ylim(-10, 15) \n",
        "plt.xlim(-10, 8) \n",
        "plt.scatter(x[:,0],x[:,1]) \n",
        "plt.rc('xtick', labelsize=20) \n",
        "plt.rc('ytick', labelsize=20) \n",
        "plt.show() "
      ],
      "execution_count": null,
      "outputs": [
        {
          "output_type": "display_data",
          "data": {
            "image/png": "[encoded data removed]",
            "text/plain": [
              "<Figure size 720x720 with 1 Axes>"
            ]
          },
          "metadata": {
            "tags": []
          }
        }
      ]
    },
    {
      "cell_type": "markdown",
      "metadata": {
        "id": "SuT0etl-ucWG",
        "colab_type": "text"
      },
      "source": [
        "##Use reduced data as input to linear SCV\n"
      ]
    },
    {
      "cell_type": "code",
      "metadata": {
        "id": "FDFvcovtlWKf",
        "colab_type": "code",
        "colab": {
          "base_uri": "https://localhost:8080/",
          "height": 394
        },
        "outputId": "df5a3eb7-39d9-40fb-f8bd-7ea6e3b108e6"
      },
      "source": [
        "clf = svm.LinearSVC(C=1.0, class_weight=None, dual=False,\n",
        "                           fit_intercept=True, intercept_scaling=1,\n",
        "                           loss='squared_hinge', max_iter=10000,\n",
        "                           multi_class='ovr', penalty='l1', random_state=None,\n",
        "                           tol=0.0001, verbose=0)\n",
        "\n",
        "cv = RepeatedKFold(n_splits = 5, n_repeats = 10, random_state = 2032)\n",
        "scores = cross_val_score(clf, x, y_train, cv = cv) # 5-fold repeated cross validation\n",
        "print('Mean Accuracy: ',scores)\n",
        "\n",
        "# Plot summary of accuracy results (ala of Di from knowing grebes' github)\n",
        "f, ax = plt.subplots(figsize=(8, 3))\n",
        "ax.boxplot(scores, vert=False, widths=.7)\n",
        "ax.scatter(scores, np.ones(50))\n",
        "ax.set(\n",
        "  xlabel=\"Accuracy\",\n",
        "  yticks=[],\n",
        "  title=f\"Average test accuracy: {scores.mean():.2%}\"\n",
        ")\n",
        "ax.spines[\"left\"].set_visible(False)"
      ],
      "execution_count": null,
      "outputs": [
        {
          "output_type": "stream",
          "text": [
            "Mean Accuracy:  [0.88571429 0.94117647 0.91176471 0.94117647 0.82352941 0.94285714\n",
            " 0.88235294 0.91176471 0.82352941 0.91176471 0.91428571 0.91176471\n",
            " 0.88235294 0.88235294 0.94117647 0.94285714 0.82352941 0.94117647\n",
            " 0.88235294 0.88235294 0.97142857 0.79411765 0.91176471 0.88235294\n",
            " 0.97058824 0.94285714 0.94117647 0.82352941 0.91176471 0.88235294\n",
            " 0.94285714 0.88235294 0.91176471 0.91176471 0.88235294 0.88571429\n",
            " 0.94117647 0.88235294 0.91176471 0.88235294 0.85714286 0.97058824\n",
            " 0.82352941 0.91176471 0.91176471 0.94285714 0.88235294 0.82352941\n",
            " 0.91176471 0.91176471]\n"
          ],
          "name": "stdout"
        },
        {
          "output_type": "display_data",
          "data": {
            "image/png": "[encoded data removed]",
            "text/plain": [
              "<Figure size 576x216 with 1 Axes>"
            ]
          },
          "metadata": {
            "tags": [],
            "needs_background": "light"
          }
        }
      ]
    },
    {
      "cell_type": "markdown",
      "metadata": {
        "id": "5-qFaGZbL5Iu",
        "colab_type": "text"
      },
      "source": [
        "##Create plots to show SVC results "
      ]
    },
    {
      "cell_type": "code",
      "metadata": {
        "id": "Di8AWoGgL41V",
        "colab_type": "code",
        "colab": {}
      },
      "source": [
        "linear_svm = clf.fit(x,y_train)\n",
        "line = np.linspace(-15, 15)  \n",
        "for coef, intercept in zip(linear_svm.coef_, linear_svm.intercept_):  \n",
        "    plt.plot(line, -(line * coef[0] + intercept) / coef[1])  #HOW DO WE KNOW\n",
        "plt.ylim(-10, 15)  \n",
        "plt.xlim(-10, 8) \n",
        "plt.scatter(x[:,0],x[:,1]) \n",
        "plt.show() \n",
        "\n"
      ],
      "execution_count": null,
      "outputs": []
    },
    {
      "cell_type": "code",
      "metadata": {
        "id": "JI5D43liiSrU",
        "colab_type": "code",
        "cellView": "form",
        "colab": {}
      },
      "source": [
        "#@title Broken first attempt at pipeline\n",
        "\n",
        "import matplotlib.pyplot as plt\n",
        "import numpy as np\n",
        "from sklearn.discriminant_analysis import LinearDiscriminantAnalysis\n",
        "\n",
        "import seglearn as sgl\n",
        "\n",
        "\n",
        "def plot_embedding(emb, y, y_labels):\n",
        "    # plot a 2D feature map embedding\n",
        "    x_min, x_max = np.min(emb, 0), np.max(emb, 0)\n",
        "    emb = (emb - x_min) / (x_max - x_min)\n",
        "\n",
        "    NC = len(y_labels)\n",
        "    markers = ['.', '+', 'x', '|', '_', '*', 'o']\n",
        "\n",
        "    fig = plt.figure()\n",
        "    fig.set_size_inches(6, 6)\n",
        "\n",
        "    for c in range(NC):\n",
        "        i = y == c\n",
        "        plt.scatter(emb[i, 0], emb[i, 1], marker=markers[c], label=y_labels[c])\n",
        "\n",
        "    plt.xticks([]), plt.yticks([])\n",
        "    plt.legend()\n",
        "    plt.tight_layout()\n",
        "\n",
        "\n",
        "# Find sessions with recordings from ROI \n",
        "idx = []\n",
        "[idx.append(ses) for ses in range(len(alldat)) if np.isin(alldat[ses]['date_exp'],session_list.copy())]\n",
        "\n",
        "# Get data\n",
        "dat = alldat[idx[0]]\n",
        "\n",
        "# n_trials x context \n",
        "labels = get_labels_LDA(dat) \n",
        "\n",
        "# grab cells of interest Roi from session\n",
        "cell_idx = find_cells(df,session_list[0],'vis_ctx')\n",
        "\n",
        "# n cells x trials x time \n",
        "cells = dat['spks'][cell_idx]\n",
        " \n",
        "# Get data into trials x n cells x time\n",
        "X = cells.T.transpose(1,2,0)\n",
        "y = labels[:,0]\n",
        "\n",
        "# create a pipeline for LDA transformation of the feature representation\n",
        "clf = sgl.Pype([('segment', sgl.Segment()),\n",
        "                ('ftr', sgl.FeatureRep()),\n",
        "                ('lda', LinearDiscriminantAnalysis(n_components=2))])\n",
        "\n",
        "X2, y2 = clf.fit_transform(X, y)\n",
        "plt.figure()\n"
      ],
      "execution_count": null,
      "outputs": []
    }
  ]
}